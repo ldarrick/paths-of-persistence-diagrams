{
 "cells": [
  {
   "attachments": {},
   "cell_type": "markdown",
   "metadata": {},
   "source": [
    "# KME Timing Experiments\n",
    "\n",
    "This notebook performs a basic timing experiment to compare KME runtime with computing the signature kernel."
   ]
  },
  {
   "cell_type": "code",
   "execution_count": 1,
   "metadata": {},
   "outputs": [
    {
     "data": {
      "text/plain": [
       "SW_MMD_kernel_from_SWD (generic function with 3 methods)"
      ]
     },
     "metadata": {},
     "output_type": "display_data"
    }
   ],
   "source": [
    "using MAT\n",
    "using Statistics\n",
    "include(\"compute_features.jl\")\n",
    "include(\"PathSignatures.jl\")\n",
    "include(\"regression_utils.jl\")\n",
    "include(\"utils.jl\")"
   ]
  },
  {
   "cell_type": "code",
   "execution_count": 2,
   "metadata": {},
   "outputs": [
    {
     "data": {
      "text/plain": [
       "1"
      ]
     },
     "metadata": {},
     "output_type": "display_data"
    }
   ],
   "source": [
    "Threads.nthreads()"
   ]
  },
  {
   "cell_type": "code",
   "execution_count": 3,
   "metadata": {},
   "outputs": [
    {
     "data": {
      "text/plain": [
       "4-element Vector{Int64}:\n",
       "  5\n",
       " 10\n",
       " 15\n",
       " 20"
      ]
     },
     "metadata": {},
     "output_type": "display_data"
    }
   ],
   "source": [
    "N_all = [10, 20, 30, 40] # Number of simulations\n",
    "T_all = [5, 10, 15, 20] # Number of time steps"
   ]
  },
  {
   "cell_type": "code",
   "execution_count": 4,
   "metadata": {},
   "outputs": [],
   "source": [
    "# Load persistence diagrams from ss=50, init100\n",
    "base_fpath = \"data/ss50/init100/\"\n",
    "fname = string(base_fpath, \"PD/PD.mat\")\n",
    "file = matopen(fname, \"r\")\n",
    "B0 = read(file, \"B0\")\n",
    "B1 = read(file, \"B1\")\n",
    "B2 = read(file, \"B2\")\n",
    "close(file)\n"
   ]
  },
  {
   "cell_type": "code",
   "execution_count": 9,
   "metadata": {},
   "outputs": [],
   "source": [
    "SWD_time = zeros(4,4)\n",
    "\n",
    "for (i, N) in enumerate(N_all)\n",
    "    for (j, T) in enumerate(T_all)\n",
    "        start = time()\n",
    "        D_all = batch_SWD(B0, B1, B2, 1, N, T)\n",
    "        SWD_time[i,j] = time() - start\n",
    "    end\n",
    "end\n"
   ]
  },
  {
   "cell_type": "code",
   "execution_count": 10,
   "metadata": {},
   "outputs": [
    {
     "data": {
      "text/plain": [
       "4×4 Matrix{Float64}:\n",
       " 0.12536   0.246593  0.534773   0.940456\n",
       " 0.242112  0.925917  2.04854    3.64619\n",
       " 0.534784  2.04885   4.77143    8.05156\n",
       " 0.956096  3.64669   7.97287   14.0819"
      ]
     },
     "metadata": {},
     "output_type": "display_data"
    }
   ],
   "source": [
    "SWD_time"
   ]
  },
  {
   "cell_type": "code",
   "execution_count": 11,
   "metadata": {},
   "outputs": [],
   "source": [
    "MK_time = zeros(4,4)\n",
    "moment_level = 2\n",
    "signature_level = 3\n",
    "\n",
    "for (i, N) in enumerate(N_all)\n",
    "    for (j, T) in enumerate(T_all)\n",
    "        start = time()\n",
    "        curB0 = B0[1:N]\n",
    "        curB1 = B1[1:N]\n",
    "        curB2 = B2[1:N]\n",
    "\n",
    "        for n = 1:N\n",
    "            curB0[n] = curB0[n][1:T]\n",
    "            curB1[n] = curB1[n][1:T]\n",
    "            curB2[n] = curB2[n][1:T]\n",
    "        end\n",
    "\n",
    "        FT = compute_PD_moments(curB0, curB1, curB2, moment_level, \"\", false)\n",
    "        K = dsignature_kernel_matrix(FT, [], signature_level, \"R\")\n",
    "\n",
    "        MK_time[i,j] = time() - start\n",
    "    end\n",
    "end"
   ]
  },
  {
   "cell_type": "code",
   "execution_count": 12,
   "metadata": {},
   "outputs": [
    {
     "data": {
      "text/plain": [
       "4×4 Matrix{Float64}:\n",
       " 0.00252795  0.00213599  0.00302482  0.00716305\n",
       " 0.00548816  0.00687194  0.0139999   0.014925\n",
       " 0.0110071   0.012964    0.0158989   0.0350108\n",
       " 0.026649    0.021143    0.024406    0.047616"
      ]
     },
     "metadata": {},
     "output_type": "display_data"
    }
   ],
   "source": [
    "MK_time"
   ]
  },
  {
   "cell_type": "code",
   "execution_count": 13,
   "metadata": {},
   "outputs": [
    {
     "data": {
      "text/plain": [
       "0.0021359920501708984"
      ]
     },
     "metadata": {},
     "output_type": "display_data"
    }
   ],
   "source": [
    "MK_time[1,2]"
   ]
  },
  {
   "cell_type": "code",
   "execution_count": null,
   "metadata": {},
   "outputs": [],
   "source": []
  }
 ],
 "metadata": {
  "kernelspec": {
   "display_name": "Julia 1.7.1",
   "language": "julia",
   "name": "julia-1.7"
  },
  "language_info": {
   "file_extension": ".jl",
   "mimetype": "application/julia",
   "name": "julia",
   "version": "1.7.1"
  },
  "orig_nbformat": 4
 },
 "nbformat": 4,
 "nbformat_minor": 2
}
