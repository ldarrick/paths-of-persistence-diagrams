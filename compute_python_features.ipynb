{
 "cells": [
  {
   "attachments": {},
   "cell_type": "markdown",
   "metadata": {},
   "source": [
    "# Compute Persistence Features\n",
    "\n",
    "This notebook computes persistence landscapes and images using the Giotto-TDA package in python."
   ]
  },
  {
   "cell_type": "code",
   "execution_count": 1,
   "metadata": {},
   "outputs": [],
   "source": [
    "from compute_features import compute_PD_landscape, compute_PD_image"
   ]
  },
  {
   "cell_type": "code",
   "execution_count": 2,
   "metadata": {},
   "outputs": [],
   "source": [
    "temp_subsample = [\"init100/\", \"init50/\", \"init20/\", \"random50/\", \"random20/\"]"
   ]
  },
  {
   "cell_type": "code",
   "execution_count": 3,
   "metadata": {},
   "outputs": [],
   "source": [
    "# ss = 200 features\n",
    "base_fpath = \"data/ss200/\"\n",
    "for tdir in temp_subsample:\n",
    "    PDfname = base_fpath + tdir + \"PD/PDG.mat\"\n",
    "    fpath = base_fpath + tdir + \"FT/\"\n",
    "    \n",
    "    compute_PD_landscape(PDfname, 5, 10, True, fpath)\n",
    "    compute_PD_image(PDfname, 0.3, 10, True, fpath)"
   ]
  },
  {
   "cell_type": "code",
   "execution_count": null,
   "metadata": {},
   "outputs": [],
   "source": [
    "# ss = 50 features\n",
    "base_fpath = \"data/ss50/\"\n",
    "for tdir in temp_subsample:\n",
    "    PDfname = base_fpath + tdir + \"PD/PDG.mat\"\n",
    "    fpath = base_fpath + tdir + \"FT/\"\n",
    "    \n",
    "    compute_PD_landscape(PDfname, 5, 10, True, fpath)\n",
    "    compute_PD_image(PDfname, 0.3, 10, True, fpath)"
   ]
  },
  {
   "cell_type": "code",
   "execution_count": null,
   "metadata": {},
   "outputs": [],
   "source": [
    "## ss=50 mixed features\n",
    "\n",
    "ss50_fpath = \"data/ss50/\"\n",
    "mixed_fpath = \"data/mixed/\"\n",
    "temp_subsample = [\"init100/\", \"init50/\", \"init20/\", \"random50/\", \"random20/\"]\n",
    "sf = 50.0/200.0\n",
    "\n",
    "for tdir in temp_subsample:\n",
    "    PDfname = ss50_fpath + tdir + \"PD/PDGN.mat\"\n",
    "    fpath = mixed_fpath + tdir + \"FT/\"\n",
    "    \n",
    "    compute_PD_landscape(PDfname, 5, 10, True, fpath, sf)\n",
    "    compute_PD_image(PDfname, 0.3, 10, True, fpath, sf)"
   ]
  }
 ],
 "metadata": {
  "kernelspec": {
   "display_name": "giotto",
   "language": "python",
   "name": "python3"
  },
  "language_info": {
   "codemirror_mode": {
    "name": "ipython",
    "version": 3
   },
   "file_extension": ".py",
   "mimetype": "text/x-python",
   "name": "python",
   "nbconvert_exporter": "python",
   "pygments_lexer": "ipython3",
   "version": "3.10.9"
  },
  "orig_nbformat": 4
 },
 "nbformat": 4,
 "nbformat_minor": 2
}
