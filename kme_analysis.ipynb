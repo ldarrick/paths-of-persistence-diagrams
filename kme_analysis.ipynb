{
 "cells": [
  {
   "attachments": {},
   "cell_type": "markdown",
   "metadata": {},
   "source": [
    "# Kernel Mean Embedding (KME) Analysis\n",
    "\n",
    "This notebook performs the KME experiments in Section 7.6.\n",
    "\n",
    "0. **Setup and Parameters**: Create directories and set parameters.  \n",
    "\n",
    "1. **Compute Sliced Wasserstein Distance**: We compute the SWD first (before computing the kernel), since this is the computationally expensive part, so we only do this once.  \n",
    "\n",
    "2. **Compute Sliced Wasserstein Kernels**: Compute the Sliced Wasserstein Kernel for various hyperparameters.  \n",
    "\n",
    "3. **Perform Regression**: Perform parameter estimation and optimize over the SWK hyperparameters.\n"
   ]
  },
  {
   "attachments": {},
   "cell_type": "markdown",
   "metadata": {},
   "source": [
    "## 0. Setup and Parameters"
   ]
  },
  {
   "cell_type": "code",
   "execution_count": null,
   "metadata": {},
   "outputs": [],
   "source": [
    "using MAT\n",
    "using Statistics\n",
    "# using ThreadPools\n",
    "include(\"compute_features.jl\")\n",
    "include(\"PathSignatures.jl\")\n",
    "include(\"regression_utils.jl\")\n",
    "include(\"utils.jl\")"
   ]
  },
  {
   "cell_type": "code",
   "execution_count": null,
   "metadata": {},
   "outputs": [],
   "source": [
    "# Parameters\n",
    "ss = 50\n",
    "\n",
    "# Experiments in paper are init20 and random20\n",
    "tdir = \"init20\"\n",
    "\n",
    "\n",
    "# Regression parameters\n",
    "num_iterations = 100\n",
    "tr_split = 0.8 # training split\n",
    "hyp_cv = 4 # number of folds in cross-validation to do hyperparameter optimization\n",
    "\n",
    "SVR_C = 10. .^(-3:1:1) # SVR C values to optimize over\n",
    "SVR_eps = 10. .^(-4:1:0) # SVR epsilon values to optimize over"
   ]
  },
  {
   "cell_type": "code",
   "execution_count": null,
   "metadata": {},
   "outputs": [],
   "source": [
    "# Create directories\n",
    "base_fpath = string(\"data/ss\", ss, \"/\", tdir, \"/\")\n",
    "\n",
    "if ~isdir(string(base_fpath, \"SW/\"))\n",
    "    mkdir(string(base_fpath, \"SW/\"))\n",
    "end\n",
    "\n",
    "if ~isdir(string(base_fpath, \"SW_KE/\"))\n",
    "    mkdir(string(base_fpath, \"SW_KE/\"))\n",
    "end"
   ]
  },
  {
   "attachments": {},
   "cell_type": "markdown",
   "metadata": {},
   "source": [
    "## 1. Compute Sliced Wasserstein Distance"
   ]
  },
  {
   "cell_type": "code",
   "execution_count": null,
   "metadata": {},
   "outputs": [],
   "source": [
    "fname = string(base_fpath, \"PD/PD.mat\")\n",
    "file = matopen(fname, \"r\")\n",
    "B0 = read(file, \"B0\")\n",
    "B1 = read(file, \"B1\")\n",
    "B2 = read(file, \"B2\")\n",
    "close(file)\n",
    "\n",
    "D_all = batch_SWD(B0, B1, B2, 1, 500, 20)\n",
    "\n",
    "fname = string(base_fpath, \"SWD/SWD.mat\")\n",
    "file = matopen(fname, \"w\")\n",
    "write(file, \"SWD\", D_all)\n",
    "close(file)\n",
    "\n"
   ]
  },
  {
   "attachments": {},
   "cell_type": "markdown",
   "metadata": {},
   "source": [
    "## 2. Kernels"
   ]
  },
  {
   "cell_type": "code",
   "execution_count": null,
   "metadata": {},
   "outputs": [],
   "source": [
    "# SMM kernel - init20\n",
    "\n",
    "file = matopen(string(base_fpath, \"SWD/SWD.mat\"), \"r\")\n",
    "SWD = read(file, \"SWD\")\n",
    "close(file)\n",
    "numRun = 500\n",
    "\n",
    "KE_fpath = string(base_fpath, \"SWD_KE/\")\n",
    "\n",
    "sigma_all = [0.001, 0.01, 0.1, 1.0, 10.0, 100.0]\n",
    "for sigma in sigma_all\n",
    "    SMMK = zeros(numRun, numRun)\n",
    "\n",
    "    for i in 1:500\n",
    "        for j in i:500\n",
    "            curD = SWD[i,j,:,:]\n",
    "            K = exp.(-curD./(2*sigma))\n",
    "\n",
    "            SMMK[i,j] = sum(K[1:20, 21:40])\n",
    "\n",
    "            if i != j\n",
    "                SMMK[j,i] = SMMK[i,j]\n",
    "            end\n",
    "        end\n",
    "    end\n",
    "\n",
    "    KE_fname = string(KE_fpath, \"SW_\", Int(sigma*1000), \".mat\")\n",
    "    file = matopen(KE_fname, \"w\")\n",
    "    write(file, \"K\", SMMK)\n",
    "    close(file)\n",
    "end"
   ]
  },
  {
   "attachments": {},
   "cell_type": "markdown",
   "metadata": {},
   "source": [
    "## 3. Perform Regression"
   ]
  },
  {
   "cell_type": "code",
   "execution_count": null,
   "metadata": {},
   "outputs": [],
   "source": [
    "# SW Hyperparameter search\n",
    "\n",
    "file = matopen(\"CL_data.mat\", \"r\")\n",
    "CL = read(file, \"CL\")\n",
    "close(file)\n",
    "\n",
    "KE_fpath = string(base_fpath,\"SWD_KE/\")\n",
    "RG_fpath = string(base_fpath,\"RG/\")\n",
    "\n",
    "all_K = readdir(KE_fpath)\n",
    "numK = length(all_K)\n",
    "\n",
    "K_all = []\n",
    "for i = 1:numK\n",
    "    curK = all_K[i]\n",
    "    file = matopen(string(KE_fpath, curK),\"r\")\n",
    "    K = read(file, \"K\")\n",
    "    close(file)\n",
    "    push!(K_all, K)\n",
    "end\n",
    "\n",
    "reg_error, SVR_params = run_regression_multikernel(K_all, K_all, CL, num_iterations, SVR_C, SVR_eps, hyp_cv, tr_split)\n",
    "        \n",
    "fname = string(RG_fpath, \"SW_SMM.mat\")\n",
    "file = matopen(fname, \"w\")\n",
    "write(file, \"reg_error\", reg_error)\n",
    "write(file, \"SVR_params\", SVR_params)\n",
    "close(file)\n",
    "\n",
    "reg_mean = mean(reg_error, dims=1)\n",
    "reg_std = std(reg_error, dims=1)\n"
   ]
  }
 ],
 "metadata": {
  "kernelspec": {
   "display_name": "Julia 1.7.1",
   "language": "julia",
   "name": "julia-1.7"
  },
  "language_info": {
   "file_extension": ".jl",
   "mimetype": "application/julia",
   "name": "julia",
   "version": "1.7.1"
  },
  "orig_nbformat": 4
 },
 "nbformat": 4,
 "nbformat_minor": 2
}
